{
 "cells": [
  {
   "cell_type": "code",
   "execution_count": 2,
   "metadata": {},
   "outputs": [
    {
     "name": "stdout",
     "output_type": "stream",
     "text": [
      "Open datbase successfully\n"
     ]
    }
   ],
   "source": [
    "import sqlite3\n",
    "conn=sqlite3.connect('school_database.sqlite')\n",
    "cur=conn.cursor()\n",
    "print(\"Open datbase successfully\")"
   ]
  },
  {
   "cell_type": "code",
   "execution_count": 3,
   "metadata": {},
   "outputs": [
    {
     "data": {
      "text/plain": [
       "<sqlite3.Cursor at 0x19efaf45f10>"
      ]
     },
     "execution_count": 3,
     "metadata": {},
     "output_type": "execute_result"
    }
   ],
   "source": [
    "cur.execute('''CREATE TABLE SCHOOL(ID INT PRIMARY KEY NOT NULL,NAME TEXT NOT NULL,AGE INT NOT NULL,ADDRESS CHAR(50),MARKS INT)''')\n"
   ]
  },
  {
   "cell_type": "code",
   "execution_count": 4,
   "metadata": {},
   "outputs": [],
   "source": [
    "cur.execute('''INSERT INTO SCHOOL(ID,NAME,AGE,ADDRESS,MARKS)\n",
    "VALUES(1,'RIYA',20,'HUBLI',88);''')\n",
    "conn.commit()"
   ]
  },
  {
   "cell_type": "code",
   "execution_count": 5,
   "metadata": {},
   "outputs": [],
   "source": [
    "cur.execute('''INSERT INTO SCHOOL(ID,NAME,AGE,ADDRESS,MARKS)\n",
    "VALUES(2,'RAJ',20,'BANGLORE',75);''')\n",
    "cur.execute('''INSERT INTO SCHOOL(ID,NAME,AGE,ADDRESS,MARKS)\n",
    "VALUES(3,'SANA',21,'BOMBAY',84);''')\n",
    "cur.execute('''INSERT INTO SCHOOL(ID,NAME,AGE,ADDRESS,MARKS)\n",
    "VALUES(4,'NIDHI',21,'HUBLI',95);''')\n",
    "cur.execute('''INSERT INTO SCHOOL(ID,NAME,AGE,ADDRESS,MARKS)\n",
    "VALUES(5,'ZAREEN',20,'GULBARGA',93);''')\n",
    "cur.execute('''INSERT INTO SCHOOL(ID,NAME,AGE,ADDRESS,MARKS)\n",
    "VALUES(6,'SUMA',20,'HAVERI',90);''')\n",
    "cur.execute('''INSERT INTO SCHOOL(ID,NAME,AGE,ADDRESS,MARKS)\n",
    "VALUES(7,'RAHUL',21,'RAICHUR',66);''')\n",
    "cur.execute('''INSERT INTO SCHOOL(ID,NAME,AGE,ADDRESS,MARKS)\n",
    "VALUES(8,'MEGHA',20,'DHARWAD',73);''')\n",
    "cur.execute('''INSERT INTO SCHOOL(ID,NAME,AGE,ADDRESS,MARKS)\n",
    "VALUES(9,'SUGA',25,'SEOUL',94);''')\n",
    "cur.execute('''INSERT INTO SCHOOL(ID,NAME,AGE,ADDRESS,MARKS)\n",
    "VALUES(10,'KIARA',22,'HUBLI',97);''')\n",
    "conn.commit()"
   ]
  },
  {
   "cell_type": "code",
   "execution_count": 6,
   "metadata": {},
   "outputs": [
    {
     "name": "stdout",
     "output_type": "stream",
     "text": [
      "[(1, 'RIYA', 20, 'HUBLI', 88), (2, 'RAJ', 20, 'BANGLORE', 75), (3, 'SANA', 21, 'BOMBAY', 84), (4, 'NIDHI', 21, 'HUBLI', 95), (5, 'ZAREEN', 20, 'GULBARGA', 93), (6, 'SUMA', 20, 'HAVERI', 90), (7, 'RAHUL', 21, 'RAICHUR', 66), (8, 'MEGHA', 20, 'DHARWAD', 73), (9, 'SUGA', 25, 'SEOUL', 94), (10, 'KIARA', 22, 'HUBLI', 97)]\n"
     ]
    }
   ],
   "source": [
    "cur.execute(\"SELECT * FROM SCHOOL\")\n",
    "result=cur.fetchall()\n",
    "print(result)"
   ]
  },
  {
   "cell_type": "code",
   "execution_count": 7,
   "metadata": {},
   "outputs": [
    {
     "name": "stdout",
     "output_type": "stream",
     "text": [
      "ID 1\n",
      "NAME RIYA\n",
      "AGE 20\n",
      "ADDRESS HUBLI\n",
      "MARKS 88\n",
      "ID 2\n",
      "NAME RAJ\n",
      "AGE 20\n",
      "ADDRESS BANGLORE\n",
      "MARKS 75\n",
      "ID 3\n",
      "NAME SANA\n",
      "AGE 21\n",
      "ADDRESS BOMBAY\n",
      "MARKS 84\n",
      "ID 4\n",
      "NAME NIDHI\n",
      "AGE 21\n",
      "ADDRESS HUBLI\n",
      "MARKS 95\n",
      "ID 5\n",
      "NAME ZAREEN\n",
      "AGE 20\n",
      "ADDRESS GULBARGA\n",
      "MARKS 93\n",
      "ID 6\n",
      "NAME SUMA\n",
      "AGE 20\n",
      "ADDRESS HAVERI\n",
      "MARKS 90\n",
      "ID 7\n",
      "NAME RAHUL\n",
      "AGE 21\n",
      "ADDRESS RAICHUR\n",
      "MARKS 66\n",
      "ID 8\n",
      "NAME MEGHA\n",
      "AGE 20\n",
      "ADDRESS DHARWAD\n",
      "MARKS 73\n",
      "ID 9\n",
      "NAME SUGA\n",
      "AGE 25\n",
      "ADDRESS SEOUL\n",
      "MARKS 94\n",
      "ID 10\n",
      "NAME KIARA\n",
      "AGE 22\n",
      "ADDRESS HUBLI\n",
      "MARKS 97\n"
     ]
    }
   ],
   "source": [
    "for row in cur.execute(\"SELECT ID,NAME,AGE,ADDRESS,MARKS FROM SCHOOL\"):\n",
    "    print('ID',row[0])\n",
    "    print('NAME',row[1])\n",
    "    print('AGE',row[2])\n",
    "    print('ADDRESS',row[3])\n",
    "    print('MARKS',row[4])"
   ]
  },
  {
   "cell_type": "code",
   "execution_count": 8,
   "metadata": {},
   "outputs": [],
   "source": [
    "cur.execute(\"UPDATE SCHOOL SET AGE=19 WHERE ID=1\")\n",
    "conn.commit()"
   ]
  },
  {
   "cell_type": "code",
   "execution_count": 9,
   "metadata": {},
   "outputs": [],
   "source": [
    "cur.execute(\"DELETE FROM SCHOOL WHERE ID=10\")\n",
    "conn.commit()"
   ]
  },
  {
   "cell_type": "code",
   "execution_count": null,
   "metadata": {},
   "outputs": [],
   "source": []
  }
 ],
 "metadata": {
  "kernelspec": {
   "display_name": "Python 3",
   "language": "python",
   "name": "python3"
  },
  "language_info": {
   "codemirror_mode": {
    "name": "ipython",
    "version": 3
   },
   "file_extension": ".py",
   "mimetype": "text/x-python",
   "name": "python",
   "nbconvert_exporter": "python",
   "pygments_lexer": "ipython3",
   "version": "3.7.1"
  }
 },
 "nbformat": 4,
 "nbformat_minor": 2
}
