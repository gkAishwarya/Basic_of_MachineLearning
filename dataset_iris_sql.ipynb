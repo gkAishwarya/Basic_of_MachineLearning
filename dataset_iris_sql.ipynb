{
 "cells": [
  {
   "cell_type": "code",
   "execution_count": 1,
   "metadata": {},
   "outputs": [
    {
     "name": "stderr",
     "output_type": "stream",
     "text": [
      "C:\\Users\\Garv\\Anaconda3\\lib\\site-packages\\pandas\\core\\generic.py:2130: UserWarning: The spaces in these column names will not be changed. In pandas versions < 0.14, spaces were converted to underscores.\n",
      "  dtype=dtype)\n"
     ]
    }
   ],
   "source": [
    "import pandas as pd\n",
    "import sqlite3\n",
    "conn=sqlite3.connect('school_database.sqlite')\n",
    "cur=conn.cursor()\n",
    "d=pd.read_csv('iris_csv.csv')\n",
    "d.to_sql('irisdata',conn, if_exists='append', index=False)"
   ]
  },
  {
   "cell_type": "code",
   "execution_count": 5,
   "metadata": {},
   "outputs": [
    {
     "name": "stdout",
     "output_type": "stream",
     "text": [
      "sepal_length 0\n",
      "petal_length 1.4\n",
      "sepal_length 1\n",
      "petal_length 1.4\n",
      "sepal_length 2\n",
      "petal_length 1.3\n",
      "sepal_length 3\n",
      "petal_length 1.5\n",
      "sepal_length 4\n",
      "petal_length 1.4\n",
      "sepal_length 5\n",
      "petal_length 1.7\n",
      "sepal_length 6\n",
      "petal_length 1.4\n",
      "sepal_length 7\n",
      "petal_length 1.5\n",
      "sepal_length 8\n",
      "petal_length 1.4\n",
      "sepal_length 9\n",
      "petal_length 1.5\n",
      "sepal_length 10\n",
      "petal_length 1.5\n",
      "sepal_length 11\n",
      "petal_length 1.6\n",
      "sepal_length 12\n",
      "petal_length 1.4\n",
      "sepal_length 13\n",
      "petal_length 1.1\n",
      "sepal_length 14\n",
      "petal_length 1.2\n",
      "sepal_length 15\n",
      "petal_length 1.5\n",
      "sepal_length 16\n",
      "petal_length 1.3\n",
      "sepal_length 17\n",
      "petal_length 1.4\n",
      "sepal_length 18\n",
      "petal_length 1.7\n",
      "sepal_length 19\n",
      "petal_length 1.5\n",
      "sepal_length 20\n",
      "petal_length 1.7\n",
      "sepal_length 21\n",
      "petal_length 1.5\n",
      "sepal_length 22\n",
      "petal_length 1.0\n",
      "sepal_length 23\n",
      "petal_length 1.7\n",
      "sepal_length 24\n",
      "petal_length 1.9\n",
      "sepal_length 25\n",
      "petal_length 1.6\n",
      "sepal_length 26\n",
      "petal_length 1.6\n",
      "sepal_length 27\n",
      "petal_length 1.5\n",
      "sepal_length 28\n",
      "petal_length 1.4\n",
      "sepal_length 29\n",
      "petal_length 1.6\n",
      "sepal_length 30\n",
      "petal_length 1.6\n",
      "sepal_length 31\n",
      "petal_length 1.5\n",
      "sepal_length 32\n",
      "petal_length 1.5\n",
      "sepal_length 33\n",
      "petal_length 1.4\n",
      "sepal_length 34\n",
      "petal_length 1.5\n",
      "sepal_length 35\n",
      "petal_length 1.2\n",
      "sepal_length 36\n",
      "petal_length 1.3\n",
      "sepal_length 37\n",
      "petal_length 1.5\n",
      "sepal_length 38\n",
      "petal_length 1.3\n",
      "sepal_length 39\n",
      "petal_length 1.5\n",
      "sepal_length 40\n",
      "petal_length 1.3\n",
      "sepal_length 41\n",
      "petal_length 1.3\n",
      "sepal_length 42\n",
      "petal_length 1.3\n",
      "sepal_length 43\n",
      "petal_length 1.6\n",
      "sepal_length 44\n",
      "petal_length 1.9\n",
      "sepal_length 45\n",
      "petal_length 1.4\n",
      "sepal_length 46\n",
      "petal_length 1.6\n",
      "sepal_length 47\n",
      "petal_length 1.4\n",
      "sepal_length 48\n",
      "petal_length 1.5\n",
      "sepal_length 49\n",
      "petal_length 1.4\n"
     ]
    }
   ],
   "source": [
    "for i in cur.execute(\"SELECT * FROM IRISDATA WHERE species='setosa'\"):\n",
    "    print('sepal_length',i[0])\n",
    "    print('petal_length',i[1])\n"
   ]
  },
  {
   "cell_type": "code",
   "execution_count": 6,
   "metadata": {},
   "outputs": [],
   "source": [
    "cur.execute(\"UPDATE irisdata SET species='seto' where species='setosa'\")\n",
    "conn.commit()"
   ]
  },
  {
   "cell_type": "code",
   "execution_count": 7,
   "metadata": {},
   "outputs": [],
   "source": [
    "cur.execute(\"DELETE FROM irisdata WHERE sepal_length=5.1 AND sepal_width=3.5\")\n",
    "conn.commit()"
   ]
  },
  {
   "cell_type": "code",
   "execution_count": null,
   "metadata": {},
   "outputs": [],
   "source": []
  }
 ],
 "metadata": {
  "kernelspec": {
   "display_name": "Python 3",
   "language": "python",
   "name": "python3"
  },
  "language_info": {
   "codemirror_mode": {
    "name": "ipython",
    "version": 3
   },
   "file_extension": ".py",
   "mimetype": "text/x-python",
   "name": "python",
   "nbconvert_exporter": "python",
   "pygments_lexer": "ipython3",
   "version": "3.7.1"
  }
 },
 "nbformat": 4,
 "nbformat_minor": 2
}
